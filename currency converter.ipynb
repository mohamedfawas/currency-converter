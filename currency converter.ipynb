{
 "cells": [
  {
   "cell_type": "code",
   "execution_count": 1,
   "metadata": {},
   "outputs": [],
   "source": [
    "from forex_python.converter import CurrencyRates\n",
    "c = CurrencyRates()\n",
    "class currency:\n",
    "    def __init__(self):\n",
    "        pass\n",
    "    def rates(self):\n",
    "        fr = input(\"Enter the currency code which you want to use as referance: \")\n",
    "        to = input(\"Enter the currency code which you want as convertion result: \")\n",
    "        self.fr = fr.upper()\n",
    "        self.to = to.upper()\n",
    "        res1 = c.get_rate(self.fr, self.to)\n",
    "        print(\"\\n\")\n",
    "        print(\"1 \",self.fr,\"equal to \",res1,\" \",self.to)\n",
    "    def conv(self):\n",
    "        fr2 = input(\"Enter the currency code which you want to use as referance: \")\n",
    "        to2 = input(\"Enter the currency code which you want as convertion result: \")\n",
    "        self.fr2 = fr2.upper()\n",
    "        self.to2 = to2.upper()\n",
    "        amt = float(input(\"Enter the amount you want to get converted: \"))\n",
    "        self.amt = amt\n",
    "        res2 = c.convert(self.fr2,self.to2,self.amt)\n",
    "        print(\"\\n\")\n",
    "        print(self.amt,\" \",self.fr2,\" equalt to \",res2,\" \",self.to2)\n",
    "    \n",
    "    "
   ]
  },
  {
   "cell_type": "code",
   "execution_count": null,
   "metadata": {},
   "outputs": [
    {
     "name": "stdout",
     "output_type": "stream",
     "text": [
      "\n",
      "    WELCOME TO  Foreign exchange rates\n",
      "    1)Conversion rate for one currency\n",
      "    2)Convert amount from one currency to other\n",
      "    \n",
      "What would you like to do? 1\n",
      "Enter the currency code which you want to use as referance: usd\n",
      "Enter the currency code which you want as convertion result: inr\n",
      "\n",
      "\n",
      "1  USD equal to  72.867501648   INR\n",
      "\n",
      "    WELCOME TO  Foreign exchange rates\n",
      "    1)Conversion rate for one currency\n",
      "    2)Convert amount from one currency to other\n",
      "    \n",
      "What would you like to do? 2\n",
      "Enter the currency code which you want to use as referance: usd\n",
      "Enter the currency code which you want as convertion result: inr\n",
      "Enter the amount you want to get converted: 2\n",
      "\n",
      "\n",
      "2.0   USD  equalt to  145.735003296   INR\n",
      "\n",
      "    WELCOME TO  Foreign exchange rates\n",
      "    1)Conversion rate for one currency\n",
      "    2)Convert amount from one currency to other\n",
      "    \n"
     ]
    }
   ],
   "source": [
    "h=currency()\n",
    "check = True\n",
    "while check:\n",
    "    print (\"\"\"\n",
    "    WELCOME TO  Foreign exchange rates\n",
    "    1)Conversion rate for one currency\n",
    "    2)Convert amount from one currency to other\n",
    "    \"\"\")\n",
    "    check = int(input(\"What would you like to do? \"))\n",
    "    if check == 1:\n",
    "        h.rates()\n",
    "    elif check ==2:\n",
    "        h.conv()\n",
    "    else:\n",
    "        print(\"Invalid Input\")\n",
    "        break"
   ]
  }
 ],
 "metadata": {
  "kernelspec": {
   "display_name": "Python 3",
   "language": "python",
   "name": "python3"
  },
  "language_info": {
   "codemirror_mode": {
    "name": "ipython",
    "version": 3
   },
   "file_extension": ".py",
   "mimetype": "text/x-python",
   "name": "python",
   "nbconvert_exporter": "python",
   "pygments_lexer": "ipython3",
   "version": "3.8.5"
  }
 },
 "nbformat": 4,
 "nbformat_minor": 4
}
